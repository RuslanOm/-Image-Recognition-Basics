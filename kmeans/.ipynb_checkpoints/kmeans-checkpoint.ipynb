{
 "cells": [
  {
   "cell_type": "markdown",
   "metadata": {},
   "source": [
    "### Author: Omarov Ruslan  \n",
    "#### Реализация алгоритма kmeans"
   ]
  },
  {
   "cell_type": "code",
   "execution_count": 114,
   "metadata": {},
   "outputs": [
    {
     "name": "stdout",
     "output_type": "stream",
     "text": [
      "CPU times: user 800 µs, sys: 0 ns, total: 800 µs\n",
      "Wall time: 5.77 ms\n"
     ]
    }
   ],
   "source": [
    "%%time\n",
    "import numpy as np\n",
    "import random\n",
    "import math\n",
    "import pandas as pd\n",
    "import itertools\n",
    "import matplotlib.pyplot as plt\n",
    "\n",
    "\n",
    "def flatten(listOfLists):\n",
    "    \"Flatten one level of nesting\"\n",
    "    return itertools.chain.from_iterable(listOfLists)\n",
    "\n",
    "\n",
    "class Kmeans:\n",
    "\n",
    "    def __init__(self, data, n_clusters, eps=10 ** (-4)):\n",
    "        self.data = data.values\n",
    "        self.n_clusters = n_clusters\n",
    "\n",
    "        self.discr = data.describe()\n",
    "        self.centers = []\n",
    "\n",
    "        self.clusters = {}\n",
    "        self.eps = eps\n",
    "\n",
    "    def get_init_centers(self):\n",
    "        cl1 = (self.discr[\"1\"][\"min\"] + random.normalvariate(0, 0.2), self.discr[\"2\"][\"min\"] +\n",
    "               random.normalvariate(0, 0.2))\n",
    "        cl2 = (self.discr[\"1\"][\"min\"] + random.normalvariate(0, 0.2), self.discr[\"2\"][\"max\"] +\n",
    "               random.normalvariate(0, 0.2))\n",
    "        cl3 = (self.discr[\"1\"][\"max\"] + random.normalvariate(0, 0.2), self.discr[\"2\"][\"min\"] +\n",
    "               random.normalvariate(0, 0.2))\n",
    "        cl4 = (self.discr[\"1\"][\"max\"] + random.normalvariate(0, 0.2), self.discr[\"2\"][\"max\"] +\n",
    "               random.normalvariate(0, 0.2))\n",
    "\n",
    "        return [cl1, cl2, cl3, cl4]\n",
    "\n",
    "    def calc_dist(self, key, center):\n",
    "        return np.array([math.sqrt(sum((center - item) ** 2)) for item in self.clusters[key] if math.sqrt(sum((center - item) ** 2)) > 0.0001])\n",
    "\n",
    "    def calc_dist_for_centers(self, data_point, centers):\n",
    "        return np.array([math.sqrt(sum((data_point - item) ** 2)) for item in centers if math.sqrt(sum((data_point - item) ** 2)) > 0.0001])\n",
    "\n",
    "    def fit(self, n_iters):\n",
    "        self.clusters_per_iteration = []\n",
    "        prom = {}\n",
    "        for i in range(n_iters):\n",
    "\n",
    "            self.temp_clusters = self.get_init_centers()[:self.n_clusters]\n",
    "            counter = 0\n",
    "            while counter < 100:\n",
    "                for item in self.data:\n",
    "                    \n",
    "                    dists = self.calc_dist_for_centers(item, self.temp_clusters)\n",
    "                    \n",
    "                    cluster_name = np.argmin(dists)\n",
    "                    \n",
    "                    if cluster_name in self.clusters:\n",
    "                        self.clusters[cluster_name].append(item)\n",
    "                    else:\n",
    "                        self.clusters[cluster_name] = [item]\n",
    "\n",
    "                new_clusters = []\n",
    "                \n",
    "                for key in self.clusters:\n",
    "                    ind = np.argmin(self.calc_dist(key, self.temp_clusters[key]))\n",
    "                    new_clusters.append(self.clusters[key][ind])\n",
    "                    \n",
    "                self.temp_clusters = new_clusters.copy()\n",
    "                prom = self.clusters.copy()\n",
    "                self.clusters.clear()\n",
    "                counter += 1\n",
    "                \n",
    "            self.clusters_per_iteration.append(self.temp_clusters)\n",
    "        \n",
    "        self.new_centers = [np.array(prom[item]).mean(axis=0) for item in prom]\n",
    "        return self.new_centers\n",
    "\n",
    "    def predict(self, point):\n",
    "        return np.argmin(self.calc_dist_for_centers(point, self.new_centers)), point\n"
   ]
  },
  {
   "cell_type": "code",
   "execution_count": 115,
   "metadata": {},
   "outputs": [],
   "source": [
    "def generate_dataset():\n",
    "    point1 = (-1, -1)\n",
    "    point2 = (0.2, -1)\n",
    "    point3 = (-1, 0)\n",
    "    point4 = (1, 1.2)\n",
    "    return get_points(*point1) + get_points(*point2) + get_points(*point3) + get_points(*point4)\n",
    "\n",
    "\n",
    "def get_points(x, y):\n",
    "    xr = [x + random.normalvariate(0, 0.2) for _ in range(20)]\n",
    "    yr = [y + random.normalvariate(0, 0.2) for _ in range(20)]\n",
    "    return list(zip(xr, yr))\n",
    "\n",
    "\n",
    "def chunked(iterable, n):\n",
    "    acc = []\n",
    "    for item in iterable:\n",
    "        if len(acc) == n:\n",
    "            yield iter(acc[:])\n",
    "            acc.clear()\n",
    "        acc.append(item)\n",
    "\n",
    "    if acc:\n",
    "        yield iter(acc)\n",
    "\n",
    "\n",
    "n = 10\n",
    "\n",
    "ans = generate_dataset()\n",
    "data = pd.DataFrame(ans, columns=[\"1\", \"2\"])\n",
    "km = Kmeans(data, 4)\n",
    "res = km.fit(n)"
   ]
  },
  {
   "cell_type": "code",
   "execution_count": 109,
   "metadata": {},
   "outputs": [
    {
     "data": {
      "text/plain": [
       "[array([-0.8663855 , -0.91908078]),\n",
       " array([ 0.21244493, -0.98443545]),\n",
       " array([-0.89545603,  0.08890267]),\n",
       " array([0.92740139, 1.20765617])]"
      ]
     },
     "execution_count": 109,
     "metadata": {},
     "output_type": "execute_result"
    }
   ],
   "source": [
    "res"
   ]
  },
  {
   "cell_type": "code",
   "execution_count": 116,
   "metadata": {},
   "outputs": [
    {
     "data": {
      "image/png": "[encoded data removed]",
      "text/plain": [
       "<Figure size 432x288 with 1 Axes>"
      ]
     },
     "metadata": {
      "needs_background": "light"
     },
     "output_type": "display_data"
    }
   ],
   "source": [
    "color = ['red', 'blue', 'green', 'cyan']\n",
    "labels = ['cluster1', 'cluster2', 'cluster3', 'cluster4']\n",
    "\n",
    "out = {}\n",
    "\n",
    "for item in data.values:\n",
    "    cl, point = km.predict(item)\n",
    "    if cl in out:\n",
    "        out[cl].append(item)\n",
    "    else:\n",
    "        out[cl] = [item]\n",
    "\n",
    "for k in range(km.n_clusters):\n",
    "    plt.scatter(np.array(out[k])[:, 0], np.array(out[k])[:, 1], c=color[k], label=labels[k])\n",
    "plt.scatter(np.array(km.new_centers)[:, 0], np.array(km.new_centers)[:, 1], s=100, c='yellow', label='Centroids')\n",
    "plt.legend()\n",
    "plt.grid()\n",
    "plt.show()"
   ]
  },
  {
   "cell_type": "code",
   "execution_count": 69,
   "metadata": {},
   "outputs": [],
   "source": [
    "plt.show()"
   ]
  },
  {
   "cell_type": "code",
   "execution_count": 72,
   "metadata": {},
   "outputs": [
    {
     "data": {
      "text/plain": [
       "KMeans(algorithm='auto', copy_x=True, init='k-means++', max_iter=300,\n",
       "       n_clusters=4, n_init=10, n_jobs=None, precompute_distances='auto',\n",
       "       random_state=42, tol=0.0001, verbose=0)"
      ]
     },
     "execution_count": 72,
     "metadata": {},
     "output_type": "execute_result"
    }
   ],
   "source": [
    "from sklearn.cluster import KMeans\n",
    "kmeans = KMeans(n_clusters = 4, init = 'k-means++', random_state = 42)\n",
    "kmeans.fit(data)\n"
   ]
  },
  {
   "cell_type": "code",
   "execution_count": 112,
   "metadata": {},
   "outputs": [],
   "source": [
    "y_kmeans = kmeans.fit_predict(data)"
   ]
  },
  {
   "cell_type": "code",
   "execution_count": 113,
   "metadata": {},
   "outputs": [
    {
     "data": {
      "image/png": "[encoded data removed]",
      "text/plain": [
       "<Figure size 432x288 with 1 Axes>"
      ]
     },
     "metadata": {
      "needs_background": "light"
     },
     "output_type": "display_data"
    }
   ],
   "source": [
    "plt.scatter(X[y_kmeans == 0, 0], X[y_kmeans == 0, 1], s = 100, c = 'red', label = 'Cluster 1')\n",
    "plt.scatter(X[y_kmeans == 1, 0], X[y_kmeans == 1, 1], s = 100, c = 'blue', label = 'Cluster 2')\n",
    "plt.scatter(X[y_kmeans == 2, 0], X[y_kmeans == 2, 1], s = 100, c = 'green', label = 'Cluster 3')\n",
    "plt.scatter(X[y_kmeans == 3, 0], X[y_kmeans == 3, 1], s = 100, c = 'cyan', label = 'Cluster 4')\n",
    "plt.scatter(kmeans.cluster_centers_[:, 0], kmeans.cluster_centers_[:, 1], s = 300, c = 'yellow', label = 'Centroids')\n",
    "plt.title('Clusters of customers')\n",
    "plt.xlabel('Annual Income (k$)')\n",
    "plt.ylabel('Spending Score (1-100)')\n",
    "plt.legend()\n",
    "plt.show()"
   ]
  },
  {
   "cell_type": "code",
   "execution_count": null,
   "metadata": {},
   "outputs": [],
   "source": []
  }
 ],
 "metadata": {
  "kernelspec": {
   "display_name": "Python 3",
   "language": "python",
   "name": "python3"
  },
  "language_info": {
   "codemirror_mode": {
    "name": "ipython",
    "version": 3
   },
   "file_extension": ".py",
   "mimetype": "text/x-python",
   "name": "python",
   "nbconvert_exporter": "python",
   "pygments_lexer": "ipython3",
   "version": "3.6.8"
  }
 },
 "nbformat": 4,
 "nbformat_minor": 2
}
